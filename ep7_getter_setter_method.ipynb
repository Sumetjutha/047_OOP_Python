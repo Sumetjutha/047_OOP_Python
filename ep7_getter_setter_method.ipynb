{
 "cells": [
  {
   "cell_type": "code",
   "execution_count": 2,
   "metadata": {},
   "outputs": [
    {
     "name": "stdout",
     "output_type": "stream",
     "text": [
      "ชื่อพนักงาน = บอย นะจ๊ะ\n",
      "เงินเดือน = 20000000\n",
      "ตำแหน่ง = เป็นนักปั่น\n"
     ]
    }
   ],
   "source": [
    "class Employee: # การสร้าง class ควรเป็นตัวพิมพ์ใหญ่ตัวแรก\n",
    "    ## สร้าง method\n",
    "\n",
    "    def __init__(self,name,salary,department):\n",
    "        # protected attribute\n",
    "        self.__name = name\n",
    "        self._salary = salary\n",
    "        self._department = department\n",
    "    \n",
    "    # protected method\n",
    "    def _showData(self):\n",
    "        print(\"ชื่อพนักงาน = {}\".format(self.__name))\n",
    "        print(\"เงินเดือน = {}\".format(self._salary))\n",
    "        print(\"ตำแหน่ง = {}\".format(self._department))\n",
    "        # print(\"กำหนดคุณสมบัติเรียบร้อย\")\n",
    "            \n",
    "# การสร้าง วัตถุ\n",
    "obj1 = Employee(\"บอย นะจ๊ะ\",150000,\"เป็นนักปั่น\")\n",
    "obj1.__name = \"ลุงตู่\"\n",
    "obj1._salary = 20000000\n",
    "\n",
    "obj1._showData()"
   ]
  },
  {
   "cell_type": "code",
   "execution_count": 5,
   "metadata": {},
   "outputs": [
    {
     "name": "stdout",
     "output_type": "stream",
     "text": [
      "ชื่อพนักงาน = ลุงตู่\n",
      "เงินเดือน = 20000000\n",
      "ตำแหน่ง = นักชก SCT\n"
     ]
    }
   ],
   "source": [
    "# setter method\n",
    "\n",
    "class Employee: # การสร้าง class ควรเป็นตัวพิมพ์ใหญ่ตัวแรก\n",
    "    ## สร้าง method\n",
    "\n",
    "    def __init__(self,name,salary,department):\n",
    "        # protected attribute\n",
    "        self.__name = name\n",
    "        self.__salary = salary\n",
    "        self.__department = department\n",
    "    \n",
    "    # protected method\n",
    "    def _showData(self):\n",
    "        print(\"ชื่อพนักงาน = {}\".format(self.__name))\n",
    "        print(\"เงินเดือน = {}\".format(self.__salary))\n",
    "        print(\"ตำแหน่ง = {}\".format(self.__department))\n",
    "        # print(\"กำหนดคุณสมบัติเรียบร้อย\")\n",
    "    \n",
    "    # setter method\n",
    "    def setName(self,newname):\n",
    "        self.__name = newname\n",
    "    \n",
    "    def setSalary(self,newsalary):\n",
    "        self.__salary = newsalary\n",
    "        \n",
    "    def setDepartment(self,department):\n",
    "        self.__department = department\n",
    "        \n",
    "            \n",
    "# การสร้าง วัตถุ\n",
    "obj1 = Employee(\"บอย นะจ๊ะ\",150000,\"เป็นนักปั่น\")\n",
    "# obj1.__name = \"ลุงตู่\"\n",
    "obj1.setName(\"ลุงตู่\")\n",
    "# obj1.__salary = 20000000\n",
    "obj1.setSalary(20000000)\n",
    "# obj1.__department = \"นักชก SCT\"\n",
    "obj1.setDepartment(\"นักชก SCT\")\n",
    "\n",
    "obj1._showData()"
   ]
  },
  {
   "cell_type": "code",
   "execution_count": 14,
   "metadata": {},
   "outputs": [
    {
     "name": "stdout",
     "output_type": "stream",
     "text": [
      "ชื่อพนักงาน = บอย นะจ๊ะ\n",
      "เงินเดือน =  150000\n",
      "ตำแหน่ง = เป็นนักปั่น\n"
     ]
    }
   ],
   "source": [
    "# getter method\n",
    "\n",
    "class Employee: # การสร้าง class ควรเป็นตัวพิมพ์ใหญ่ตัวแรก\n",
    "    ## สร้าง method\n",
    "\n",
    "    def __init__(self,name,salary,department):\n",
    "        # protected attribute\n",
    "        self.__name = name\n",
    "        self.__salary = salary\n",
    "        self.__department = department\n",
    "    \n",
    "    # protected method\n",
    "    def _showData(self):\n",
    "        print(\"ชื่อพนักงาน = \"+self.getName())\n",
    "        print(\"เงินเดือน = \",format(self.getSalary()))\n",
    "        print(\"ตำแหน่ง = \"+self.getDepartment())\n",
    "        # print(\"กำหนดคุณสมบัติเรียบร้อย\")\n",
    "    \n",
    "    # setter method\n",
    "    def setName(self,newname):\n",
    "        self.__name = newname\n",
    "    \n",
    "    def setSalary(self,newsalary):\n",
    "        self.__salary = newsalary\n",
    "        \n",
    "    def setDepartment(self,department):\n",
    "        self.__department = department\n",
    "        \n",
    "    # gettter method\n",
    "    def getName(self):\n",
    "        return self.__name\n",
    "    \n",
    "    def getSalary(self):\n",
    "        return self.__salary\n",
    "    \n",
    "    def getDepartment(self):\n",
    "        return self.__department\n",
    "            \n",
    "# การสร้าง วัตถุ\n",
    "obj1 = Employee(\"บอย นะจ๊ะ\",150000,\"เป็นนักปั่น\")\n",
    "\n",
    "# obj1.getName()\n",
    "\n",
    "# print(\"พนักงานดีเด่นประจำปี => \",format(obj1.getName()))\n",
    "# print(\"แผนก => \",format(obj1.getDepartment()))\n",
    "\n",
    "obj1._showData()"
   ]
  }
 ],
 "metadata": {
  "kernelspec": {
   "display_name": "Python 3",
   "language": "python",
   "name": "python3"
  },
  "language_info": {
   "codemirror_mode": {
    "name": "ipython",
    "version": 3
   },
   "file_extension": ".py",
   "mimetype": "text/x-python",
   "name": "python",
   "nbconvert_exporter": "python",
   "pygments_lexer": "ipython3",
   "version": "3.9.13"
  },
  "orig_nbformat": 4
 },
 "nbformat": 4,
 "nbformat_minor": 2
}
