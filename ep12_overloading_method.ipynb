{
 "cells": [
  {
   "cell_type": "code",
   "execution_count": 28,
   "metadata": {},
   "outputs": [],
   "source": [
    "# Overloading\n",
    "class Employee: # การสร้าง class ควรเป็นตัวพิมพ์ใหญ่ตัวแรก\n",
    "    ## class variable\n",
    "    __minSalary = 12000\n",
    "    maxSalary = 50000\n",
    "    companyName = \"SCTGOLD\"\n",
    "\n",
    "    def __init__(self,name,salary,department):\n",
    "        # protected attribute\n",
    "        self.__name = name\n",
    "        self.__salary = salary\n",
    "        self._department = department\n",
    "    \n",
    "    # protected method\n",
    "    def _showData(self):\n",
    "        print(\"ชื่อพนักงาน = \"+self.__name)\n",
    "        print(\"เงินเดือน = \",format(self.__salary))\n",
    "        print(\"ตำแหน่ง = \"+self._department)\n",
    "        # print(\"กำหนดคุณสมบัติเรียบร้อย\")\n",
    "    \n",
    "    # รายได้ต่อปี \n",
    "    def _getIncome(self):\n",
    "        return self.__salary * 12\n",
    "    \n",
    "    def __str__(self):\n",
    "        return (\"ชื่อพนักงาน = {}, แผนก = {}, เงินเดือน = {}\".format(self.__name,self._department,self.__salary))\n",
    "        \n",
    "class Accounting(Employee):\n",
    "    __departmentName = \"แผนกบัญชี\"\n",
    "    def __init__(self,name,salary,age):\n",
    "        super().__init__(name,salary,self.__departmentName)\n",
    "        self.__age = age\n",
    "        # super()._showData\n",
    "    def _showData(self):\n",
    "        # print(\"ชื่อพนักงาน = \"+self.__name)\n",
    "        # print(\"เงินเดือน = \",format(self.__salary))\n",
    "        # print(\"ตำแหน่ง = \"+self._department)\n",
    "        super()._showData()\n",
    "        print(\"อายุ = \"+str(self.__age))\n",
    "        # print(\"กำหนดคุณสมบัติเรียบร้อย\")\n",
    "\n",
    "class Programmar(Employee):\n",
    "    __departmentName = \"แผนกพัฒนาระบบ\"\n",
    "    def __init__(self,name,salary,experience,skill):\n",
    "        super().__init__(name,salary,self.__departmentName)\n",
    "        self.__exp = experience\n",
    "        self.__skill = skill\n",
    "        # super()._showData\n",
    "    def _showData(self):\n",
    "        # print(\"ชื่อพนักงาน = \"+self.__name)\n",
    "        # print(\"เงินเดือน = \",format(self.__salary))\n",
    "        # print(\"ตำแหน่ง = \"+self._department)\n",
    "        super()._showData()\n",
    "        print(\"ประสบการณ์ = \"+str(self.__exp))\n",
    "        print(\"ทักษะ = \"+self.__skill)\n",
    "        # print(\"กำหนดคุณสมบัติเรียบร้อย\")\n",
    "        \n",
    "class Sale(Employee):\n",
    "    __departmentName = \"ฝ่ายขายสินค้า\"\n",
    "    def __init__(self,name,salary,area):\n",
    "        super().__init__(name,salary,self.__departmentName)\n",
    "        self.__area = area\n",
    "        # super()._showData\n",
    "        \n",
    "    def _showData(self):\n",
    "        # print(\"ชื่อพนักงาน = \"+self.__name)\n",
    "        # print(\"เงินเดือน = \",format(self.__salary))\n",
    "        # print(\"ตำแหน่ง = \"+self._department)\n",
    "        super()._showData()\n",
    "        print(\"พื้นที่การขาย = \"+self.__area)\n",
    "        # print(\"กำหนดคุณสมบัติเรียบร้อย\")"
   ]
  },
  {
   "cell_type": "code",
   "execution_count": 29,
   "metadata": {},
   "outputs": [],
   "source": [
    "account = Accounting(\"มีนา\",20000,24)\n",
    "programmer = Programmar(\"ติ๊ก\",60000,3,\"All Data Skil\")\n",
    "sale = Sale(\"เบล\",30000,\"ดินแดง\")"
   ]
  },
  {
   "cell_type": "code",
   "execution_count": 30,
   "metadata": {},
   "outputs": [
    {
     "name": "stdout",
     "output_type": "stream",
     "text": [
      "ชื่อพนักงาน = มีนา\n",
      "เงินเดือน =  20000\n",
      "ตำแหน่ง = แผนกบัญชี\n",
      "อายุ = 24\n"
     ]
    }
   ],
   "source": [
    "account._showData()"
   ]
  },
  {
   "cell_type": "code",
   "execution_count": 31,
   "metadata": {},
   "outputs": [
    {
     "name": "stdout",
     "output_type": "stream",
     "text": [
      "ชื่อพนักงาน = ติ๊ก\n",
      "เงินเดือน =  60000\n",
      "ตำแหน่ง = แผนกพัฒนาระบบ\n",
      "ประสบการณ์ = 3\n",
      "ทักษะ = All Data Skil\n"
     ]
    }
   ],
   "source": [
    "programmer._showData()"
   ]
  },
  {
   "cell_type": "code",
   "execution_count": 32,
   "metadata": {},
   "outputs": [
    {
     "name": "stdout",
     "output_type": "stream",
     "text": [
      "ชื่อพนักงาน = เบล\n",
      "เงินเดือน =  30000\n",
      "ตำแหน่ง = ฝ่ายขายสินค้า\n",
      "พื้นที่การขาย = ดินแดง\n"
     ]
    }
   ],
   "source": [
    "sale._showData()"
   ]
  },
  {
   "cell_type": "code",
   "execution_count": null,
   "metadata": {},
   "outputs": [],
   "source": []
  }
 ],
 "metadata": {
  "kernelspec": {
   "display_name": "Python 3",
   "language": "python",
   "name": "python3"
  },
  "language_info": {
   "codemirror_mode": {
    "name": "ipython",
    "version": 3
   },
   "file_extension": ".py",
   "mimetype": "text/x-python",
   "name": "python",
   "nbconvert_exporter": "python",
   "pygments_lexer": "ipython3",
   "version": "3.9.13"
  },
  "orig_nbformat": 4
 },
 "nbformat": 4,
 "nbformat_minor": 2
}
