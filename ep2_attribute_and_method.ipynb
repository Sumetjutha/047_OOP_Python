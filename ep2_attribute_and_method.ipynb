{
 "cells": [
  {
   "cell_type": "code",
   "execution_count": 3,
   "metadata": {},
   "outputs": [
    {
     "name": "stdout",
     "output_type": "stream",
     "text": [
      "เรียกใช้งาน Method ใน Class Employee\n"
     ]
    }
   ],
   "source": [
    "# ใส่ชื่อกับเงินเดือน\n",
    "class Employee: # การสร้าง class ควรเป็นตัวพิมพ์ใหญ่ตัวแรก\n",
    "    ## สร้าง method\n",
    "    def detail(self): # การสร้าง method ค\n",
    "        print(\"เรียกใช้งาน Method ใน Class Employee\")\n",
    "        \n",
    "# การสร้าง วัตถุ\n",
    "emp1 = Employee()\n",
    "emp1.detail()"
   ]
  },
  {
   "cell_type": "code",
   "execution_count": 2,
   "metadata": {},
   "outputs": [
    {
     "name": "stdout",
     "output_type": "stream",
     "text": [
      "ชื่อพนักงาน = บอยนักรักแห่ง SCT\n",
      "เงินเดือน = 150000\n",
      "กำหนดคุณสมบัติเรียบร้อย\n"
     ]
    }
   ],
   "source": [
    "# ใส่ชื่อกับเงินเดือน\n",
    "class Employee: # การสร้าง class ควรเป็นตัวพิมพ์ใหญ่ตัวแรก\n",
    "    ## สร้าง method\n",
    "    def detail(self): # การสร้าง method ค\n",
    "        self.name = \"บอยนักรักแห่ง SCT\"\n",
    "        self.salary = 150000\n",
    "        print(\"ชื่อพนักงาน = {}\".format(self.name))\n",
    "        print(\"เงินเดือน = {}\".format(self.salary))\n",
    "        print(\"กำหนดคุณสมบัติเรียบร้อย\")\n",
    "        \n",
    "# การสร้าง วัตถุ\n",
    "emp1 = Employee()\n",
    "emp1.detail()"
   ]
  },
  {
   "cell_type": "code",
   "execution_count": 13,
   "metadata": {},
   "outputs": [],
   "source": [
    "# ใส่ชื่อกับเงินเดือน\n",
    "class Employee: # การสร้าง class ควรเป็นตัวพิมพ์ใหญ่ตัวแรก\n",
    "    ## สร้าง method\n",
    "    def detail(self,name,salary,department): # การสร้าง method ค\n",
    "        self.name = name\n",
    "        self.salary = salary\n",
    "        self.department = department\n",
    "        \n",
    "    def showData(self):\n",
    "        print(\"ชื่อพนักงาน = {}\".format(self.name))\n",
    "        print(\"เงินเดือน = {}\".format(self.salary))\n",
    "        print(\"ตำแหน่ง = {}\".format(self.department))\n",
    "        # print(\"กำหนดคุณสมบัติเรียบร้อย\")\n",
    "        \n",
    "# การสร้าง วัตถุ\n",
    "obj1 = Employee()\n",
    "obj1.detail(\"บอย นะจ๊ะ\",150000,\"เป็นนักปั่น\")\n",
    "\n",
    "obj2 = Employee()\n",
    "obj2.detail(\"John Tik\",50,\"เป็นนักเลง\")\n",
    "\n",
    "obj3 = Employee()\n",
    "obj3.detail(\"ภูมิ ไอ้หนุ่มปอยหวาน\",250,\"IT SUPPORT\")"
   ]
  },
  {
   "cell_type": "code",
   "execution_count": 14,
   "metadata": {},
   "outputs": [
    {
     "name": "stdout",
     "output_type": "stream",
     "text": [
      "ชื่อพนักงาน = บอย นะจ๊ะ\n",
      "เงินเดือน = 150000\n",
      "ตำแหน่ง = เป็นนักปั่น\n"
     ]
    }
   ],
   "source": [
    "## เรียก method showData\n",
    "obj1.showData()"
   ]
  },
  {
   "cell_type": "code",
   "execution_count": 15,
   "metadata": {},
   "outputs": [
    {
     "name": "stdout",
     "output_type": "stream",
     "text": [
      "ชื่อพนักงาน = John Tik\n",
      "เงินเดือน = 50\n",
      "ตำแหน่ง = เป็นนักเลง\n"
     ]
    }
   ],
   "source": [
    "obj2.showData()"
   ]
  },
  {
   "cell_type": "code",
   "execution_count": 16,
   "metadata": {},
   "outputs": [
    {
     "name": "stdout",
     "output_type": "stream",
     "text": [
      "ชื่อพนักงาน = ภูมิ ไอ้หนุ่มปอยหวาน\n",
      "เงินเดือน = 250\n",
      "ตำแหน่ง = IT SUPPORT\n"
     ]
    }
   ],
   "source": [
    "obj3.showData()"
   ]
  }
 ],
 "metadata": {
  "kernelspec": {
   "display_name": "Python 3",
   "language": "python",
   "name": "python3"
  },
  "language_info": {
   "codemirror_mode": {
    "name": "ipython",
    "version": 3
   },
   "file_extension": ".py",
   "mimetype": "text/x-python",
   "name": "python",
   "nbconvert_exporter": "python",
   "pygments_lexer": "ipython3",
   "version": "3.9.13"
  },
  "orig_nbformat": 4
 },
 "nbformat": 4,
 "nbformat_minor": 2
}
