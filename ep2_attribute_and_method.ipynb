{
 "cells": [
  {
   "cell_type": "code",
   "execution_count": 3,
   "metadata": {},
   "outputs": [
    {
     "name": "stdout",
     "output_type": "stream",
     "text": [
      "เรียกใช้งาน Method ใน Class Employee\n"
     ]
    }
   ],
   "source": [
    "# ใส่ชื่อกับเงินเดือน\n",
    "class Employee: # การสร้าง class ควรเป็นตัวพิมพ์ใหญ่ตัวแรก\n",
    "    ## สร้าง method\n",
    "    def detail(self): # การสร้าง method ค\n",
    "        print(\"เรียกใช้งาน Method ใน Class Employee\")\n",
    "        \n",
    "# การสร้าง วัตถุ\n",
    "emp1 = Employee()\n",
    "emp1.detail()"
   ]
  },
  {
   "cell_type": "code",
   "execution_count": 4,
   "metadata": {},
   "outputs": [
    {
     "name": "stdout",
     "output_type": "stream",
     "text": [
      "กำหนดคุณสมบัติเรียบร้อย\n"
     ]
    }
   ],
   "source": [
    "# ใส่ชื่อกับเงินเดือน\n",
    "class Employee: # การสร้าง class ควรเป็นตัวพิมพ์ใหญ่ตัวแรก\n",
    "    ## สร้าง method\n",
    "    def detail(self): # การสร้าง method ค\n",
    "        self.name = \"บอยนักรักแห่ง SCT\"\n",
    "        self.salary = 150000\n",
    "        print(\"กำหนดคุณสมบัติเรียบร้อย\")\n",
    "        \n",
    "# การสร้าง วัตถุ\n",
    "emp1 = Employee()\n",
    "emp1.detail()"
   ]
  }
 ],
 "metadata": {
  "kernelspec": {
   "display_name": "Python 3",
   "language": "python",
   "name": "python3"
  },
  "language_info": {
   "codemirror_mode": {
    "name": "ipython",
    "version": 3
   },
   "file_extension": ".py",
   "mimetype": "text/x-python",
   "name": "python",
   "nbconvert_exporter": "python",
   "pygments_lexer": "ipython3",
   "version": "3.9.13"
  },
  "orig_nbformat": 4
 },
 "nbformat": 4,
 "nbformat_minor": 2
}
