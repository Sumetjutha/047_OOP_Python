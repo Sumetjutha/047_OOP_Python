{
 "cells": [
  {
   "cell_type": "code",
   "execution_count": 3,
   "metadata": {},
   "outputs": [
    {
     "name": "stdout",
     "output_type": "stream",
     "text": [
      "เรียกใช้งาน Method ใน Class Employee\n"
     ]
    }
   ],
   "source": [
    "# ใส่ชื่อกับเงินเดือน\n",
    "class Employee: # การสร้าง class ควรเป็นตัวพิมพ์ใหญ่ตัวแรก\n",
    "    ## สร้าง method\n",
    "    def detail(self): # การสร้าง method ค\n",
    "        print(\"เรียกใช้งาน Method ใน Class Employee\")\n",
    "        \n",
    "# การสร้าง วัตถุ\n",
    "emp1 = Employee()\n",
    "emp1.detail()"
   ]
  },
  {
   "cell_type": "code",
   "execution_count": 2,
   "metadata": {},
   "outputs": [
    {
     "name": "stdout",
     "output_type": "stream",
     "text": [
      "ชื่อพนักงาน = บอยนักรักแห่ง SCT\n",
      "เงินเดือน = 150000\n",
      "กำหนดคุณสมบัติเรียบร้อย\n"
     ]
    }
   ],
   "source": [
    "# ใส่ชื่อกับเงินเดือน\n",
    "class Employee: # การสร้าง class ควรเป็นตัวพิมพ์ใหญ่ตัวแรก\n",
    "    ## สร้าง method\n",
    "    def detail(self): # การสร้าง method ค\n",
    "        self.name = \"บอยนักรักแห่ง SCT\"\n",
    "        self.salary = 150000\n",
    "        print(\"ชื่อพนักงาน = {}\".format(self.name))\n",
    "        print(\"เงินเดือน = {}\".format(self.salary))\n",
    "        print(\"กำหนดคุณสมบัติเรียบร้อย\")\n",
    "        \n",
    "# การสร้าง วัตถุ\n",
    "emp1 = Employee()\n",
    "emp1.detail()"
   ]
  },
  {
   "cell_type": "code",
   "execution_count": 4,
   "metadata": {},
   "outputs": [
    {
     "name": "stdout",
     "output_type": "stream",
     "text": [
      "ชื่อพนักงาน = บอยนักรักแห่ง SCT\n",
      "เงินเดือน = 150000\n",
      "กำหนดคุณสมบัติเรียบร้อย\n",
      "ชื่อพนักงาน = บอยนักรักแห่ง SCT\n",
      "เงินเดือน = 150000\n",
      "กำหนดคุณสมบัติเรียบร้อย\n",
      "ชื่อพนักงาน = บอยนักรักแห่ง SCT\n",
      "เงินเดือน = 150000\n",
      "กำหนดคุณสมบัติเรียบร้อย\n"
     ]
    }
   ],
   "source": [
    "# ใส่ชื่อกับเงินเดือน\n",
    "class Employee: # การสร้าง class ควรเป็นตัวพิมพ์ใหญ่ตัวแรก\n",
    "    ## สร้าง method\n",
    "    def detail(self): # การสร้าง method ค\n",
    "        self.name = \"บอยนักรักแห่ง SCT\"\n",
    "        self.salary = 150000\n",
    "        print(\"ชื่อพนักงาน = {}\".format(self.name))\n",
    "        print(\"เงินเดือน = {}\".format(self.salary))\n",
    "        print(\"กำหนดคุณสมบัติเรียบร้อย\")\n",
    "        \n",
    "# การสร้าง วัตถุ\n",
    "obj1 = Employee()\n",
    "obj1.detail()\n",
    "\n",
    "obj2 = Employee()\n",
    "obj2.detail()\n",
    "\n",
    "obj3 = Employee()\n",
    "obj3.detail()"
   ]
  }
 ],
 "metadata": {
  "kernelspec": {
   "display_name": "Python 3",
   "language": "python",
   "name": "python3"
  },
  "language_info": {
   "codemirror_mode": {
    "name": "ipython",
    "version": 3
   },
   "file_extension": ".py",
   "mimetype": "text/x-python",
   "name": "python",
   "nbconvert_exporter": "python",
   "pygments_lexer": "ipython3",
   "version": "3.9.13"
  },
  "orig_nbformat": 4
 },
 "nbformat": 4,
 "nbformat_minor": 2
}
