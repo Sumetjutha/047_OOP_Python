{
 "cells": [
  {
   "cell_type": "code",
   "execution_count": 15,
   "metadata": {},
   "outputs": [],
   "source": [
    "class Employee: # การสร้าง class ควรเป็นตัวพิมพ์ใหญ่ตัวแรก\n",
    "    ## class variable\n",
    "    __minSalary = 12000\n",
    "    maxSalary = 50000\n",
    "    companyName = \"SCTGOLD\"\n",
    "\n",
    "    def __init__(self,name,salary,department):\n",
    "        # protected attribute\n",
    "        self.__name = name\n",
    "        self.__salary = salary\n",
    "        self._department = department\n",
    "    \n",
    "    # protected method\n",
    "    def _showData(self):\n",
    "        print(\"ชื่อพนักงาน = \"+self.__name)\n",
    "        print(\"เงินเดือน = \",format(self.__salary))\n",
    "        print(\"ตำแหน่ง = \"+self._department)\n",
    "        # print(\"กำหนดคุณสมบัติเรียบร้อย\")\n",
    "        \n",
    "class Accounting(Employee):\n",
    "    __departmentName = \"แผนกบัญชี\"\n",
    "    def __init__(self,name,salary):\n",
    "        super().__init__(name,salary,self.__departmentName)\n",
    "        # super()._showData\n",
    "\n",
    "class Programmar(Employee):\n",
    "    __departmentName = \"แผนกพัฒนาระบบ\"\n",
    "    def __init__(self,name,salary):\n",
    "        super().__init__(name,salary,self.__departmentName)\n",
    "        # super()._showData\n",
    "\n",
    "class Sale(Employee):\n",
    "    __departmentName = \"ฝ่ายขายสินค้า\"\n",
    "    def __init__(self,name,salary):\n",
    "        super().__init__(name,salary,self.__departmentName)\n",
    "        # super()._showData"
   ]
  },
  {
   "cell_type": "code",
   "execution_count": 16,
   "metadata": {},
   "outputs": [],
   "source": [
    "account = Accounting(\"มีนา\",12000)\n",
    "programmer = Programmar(\"ติ๊ก\",60000)\n",
    "sale = Sale(\"เบล\",30000)"
   ]
  },
  {
   "cell_type": "code",
   "execution_count": 17,
   "metadata": {},
   "outputs": [
    {
     "name": "stdout",
     "output_type": "stream",
     "text": [
      "ชื่อพนักงาน = มีนา\n",
      "เงินเดือน =  12000\n",
      "ตำแหน่ง = แผนกบัญชี\n"
     ]
    }
   ],
   "source": [
    "account._showData()"
   ]
  },
  {
   "cell_type": "code",
   "execution_count": 18,
   "metadata": {},
   "outputs": [
    {
     "name": "stdout",
     "output_type": "stream",
     "text": [
      "ชื่อพนักงาน = ติ๊ก\n",
      "เงินเดือน =  60000\n",
      "ตำแหน่ง = แผนกพัฒนาระบบ\n"
     ]
    }
   ],
   "source": [
    "programmer._showData()"
   ]
  },
  {
   "cell_type": "code",
   "execution_count": 19,
   "metadata": {},
   "outputs": [
    {
     "name": "stdout",
     "output_type": "stream",
     "text": [
      "ชื่อพนักงาน = เบล\n",
      "เงินเดือน =  30000\n",
      "ตำแหน่ง = ฝ่ายขายสินค้า\n"
     ]
    }
   ],
   "source": [
    "sale._showData()"
   ]
  }
 ],
 "metadata": {
  "kernelspec": {
   "display_name": "Python 3",
   "language": "python",
   "name": "python3"
  },
  "language_info": {
   "codemirror_mode": {
    "name": "ipython",
    "version": 3
   },
   "file_extension": ".py",
   "mimetype": "text/x-python",
   "name": "python",
   "nbconvert_exporter": "python",
   "pygments_lexer": "ipython3",
   "version": "3.9.13"
  },
  "orig_nbformat": 4
 },
 "nbformat": 4,
 "nbformat_minor": 2
}
