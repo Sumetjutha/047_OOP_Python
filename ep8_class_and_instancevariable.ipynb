{
 "cells": [
  {
   "cell_type": "code",
   "execution_count": 18,
   "metadata": {},
   "outputs": [],
   "source": [
    "class Employee: # การสร้าง class ควรเป็นตัวพิมพ์ใหญ่ตัวแรก\n",
    "    ## class variable\n",
    "    _minSalary = 12000\n",
    "    _maxSalary = 50000\n",
    "    _companyName = \"SCTGOLD\"\n",
    "\n",
    "    def __init__(self,name,salary,department):\n",
    "        # protected attribute\n",
    "        self.__name = name\n",
    "        self.__salary = salary\n",
    "        self._department = department\n",
    "    \n",
    "    # protected method\n",
    "    def _showData(self):\n",
    "        print(\"ชื่อพนักงาน = \"+self.__name)\n",
    "        print(\"เงินเดือน = \",format(self.__salary))\n",
    "        print(\"ตำแหน่ง = \"+self._department)\n",
    "        # print(\"กำหนดคุณสมบัติเรียบร้อย\")"
   ]
  },
  {
   "cell_type": "code",
   "execution_count": 11,
   "metadata": {},
   "outputs": [
    {
     "name": "stdout",
     "output_type": "stream",
     "text": [
      "ชื่อพนักงาน = บอย นะจ๊ะ\n",
      "เงินเดือน =  150000\n",
      "ตำแหน่ง = เป็นนักปั่น\n",
      "เป็นนักปั่น\n"
     ]
    }
   ],
   "source": [
    "# การสร้าง วัตถุ\n",
    "obj1 = Employee(\"บอย นะจ๊ะ\",150000,\"เป็นนักปั่น\")\n",
    "\n",
    "# obj1.getName()\n",
    "\n",
    "# print(\"พนักงานดีเด่นประจำปี => \",format(obj1.getName()))\n",
    "# print(\"แผนก => \",format(obj1.getDepartment()))\n",
    "\n",
    "obj1._showData()\n",
    "print(obj1._department)"
   ]
  },
  {
   "cell_type": "code",
   "execution_count": 14,
   "metadata": {},
   "outputs": [
    {
     "name": "stdout",
     "output_type": "stream",
     "text": [
      "เงินเดือนต่ำสุดของพนักงาน => 12000\n"
     ]
    }
   ],
   "source": [
    "print(\"เงินเดือนต่ำสุดของพนักงาน =>\",Employee._minSalary)"
   ]
  },
  {
   "cell_type": "code",
   "execution_count": 15,
   "metadata": {},
   "outputs": [
    {
     "ename": "AttributeError",
     "evalue": "type object 'Employee' has no attribute '__name'",
     "output_type": "error",
     "traceback": [
      "\u001b[1;31m---------------------------------------------------------------------------\u001b[0m",
      "\u001b[1;31mAttributeError\u001b[0m                            Traceback (most recent call last)",
      "Cell \u001b[1;32mIn[15], line 1\u001b[0m\n\u001b[1;32m----> 1\u001b[0m \u001b[39mprint\u001b[39m(Employee\u001b[39m.\u001b[39;49m__name)\n",
      "\u001b[1;31mAttributeError\u001b[0m: type object 'Employee' has no attribute '__name'"
     ]
    }
   ],
   "source": [
    "print(Employee.__name)"
   ]
  },
  {
   "cell_type": "code",
   "execution_count": 19,
   "metadata": {},
   "outputs": [
    {
     "name": "stdout",
     "output_type": "stream",
     "text": [
      "SCTGOLD\n"
     ]
    }
   ],
   "source": [
    "print(Employee._companyName)"
   ]
  }
 ],
 "metadata": {
  "kernelspec": {
   "display_name": "Python 3",
   "language": "python",
   "name": "python3"
  },
  "language_info": {
   "codemirror_mode": {
    "name": "ipython",
    "version": 3
   },
   "file_extension": ".py",
   "mimetype": "text/x-python",
   "name": "python",
   "nbconvert_exporter": "python",
   "pygments_lexer": "ipython3",
   "version": "3.9.13"
  },
  "orig_nbformat": 4
 },
 "nbformat": 4,
 "nbformat_minor": 2
}
