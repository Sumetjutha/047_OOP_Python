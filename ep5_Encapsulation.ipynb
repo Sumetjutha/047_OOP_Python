{
 "cells": [
  {
   "cell_type": "code",
   "execution_count": 5,
   "metadata": {},
   "outputs": [
    {
     "name": "stdout",
     "output_type": "stream",
     "text": [
      "ชื่อพนักงาน = บอย นะจ๊ะ\n",
      "เงินเดือน = 150000\n",
      "ตำแหน่ง = เป็นนักปั่น\n",
      "โจโจ้\n",
      "ชื่อพนักงาน = โจโจ้\n",
      "เงินเดือน = 150000\n",
      "ตำแหน่ง = เป็นนักปั่น\n"
     ]
    }
   ],
   "source": [
    "class Employee: # การสร้าง class ควรเป็นตัวพิมพ์ใหญ่ตัวแรก\n",
    "    ## สร้าง method\n",
    "\n",
    "    def __init__(self,name,salary,department):\n",
    "        # protected attribute\n",
    "        self._name = name\n",
    "        self._salary = salary\n",
    "        self._department = department\n",
    "        self._showData()\n",
    "    \n",
    "    # protected method\n",
    "    def _showData(self):\n",
    "        print(\"ชื่อพนักงาน = {}\".format(self._name))\n",
    "        print(\"เงินเดือน = {}\".format(self._salary))\n",
    "        print(\"ตำแหน่ง = {}\".format(self._department))\n",
    "        # print(\"กำหนดคุณสมบัติเรียบร้อย\")\n",
    "\n",
    "# การสร้าง วัตถุ\n",
    "obj1 = Employee(\"บอย นะจ๊ะ\",150000,\"เป็นนักปั่น\")\n",
    "obj1._name = \"โจโจ้\"\n",
    "print(obj1._name)\n",
    "obj1._showData()"
   ]
  }
 ],
 "metadata": {
  "kernelspec": {
   "display_name": "Python 3",
   "language": "python",
   "name": "python3"
  },
  "language_info": {
   "codemirror_mode": {
    "name": "ipython",
    "version": 3
   },
   "file_extension": ".py",
   "mimetype": "text/x-python",
   "name": "python",
   "nbconvert_exporter": "python",
   "pygments_lexer": "ipython3",
   "version": "3.9.13"
  },
  "orig_nbformat": 4
 },
 "nbformat": 4,
 "nbformat_minor": 2
}
