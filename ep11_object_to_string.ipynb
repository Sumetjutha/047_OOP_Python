{
 "cells": [
  {
   "cell_type": "code",
   "execution_count": 30,
   "metadata": {},
   "outputs": [],
   "source": [
    "# การแปลง Object เป็น String\n",
    "class Employee: # การสร้าง class ควรเป็นตัวพิมพ์ใหญ่ตัวแรก\n",
    "    ## class variable\n",
    "    __minSalary = 12000\n",
    "    maxSalary = 50000\n",
    "    companyName = \"SCTGOLD\"\n",
    "\n",
    "    def __init__(self,name,salary,department):\n",
    "        # protected attribute\n",
    "        self.__name = name\n",
    "        self.__salary = salary\n",
    "        self._department = department\n",
    "    \n",
    "    # protected method\n",
    "    def _showData(self):\n",
    "        print(\"ชื่อพนักงาน = \"+self.__name)\n",
    "        print(\"เงินเดือน = \",format(self.__salary))\n",
    "        print(\"ตำแหน่ง = \"+self._department)\n",
    "        # print(\"กำหนดคุณสมบัติเรียบร้อย\")\n",
    "    \n",
    "    # รายได้ต่อปี \n",
    "    def _getIncome(self):\n",
    "        return self.__salary * 12\n",
    "    \n",
    "    def __str__(self):\n",
    "        return (\"ชื่อพนักงาน = {}, แผนก = {}, เงินเดือน = {}\".format(self.__name,self._department,self.__salary))\n",
    "        \n",
    "class Accounting(Employee):\n",
    "    __departmentName = \"แผนกบัญชี\"\n",
    "    def __init__(self,name,salary):\n",
    "        super().__init__(name,salary,self.__departmentName)\n",
    "        # super()._showData\n",
    "\n",
    "class Programmar(Employee):\n",
    "    __departmentName = \"แผนกพัฒนาระบบ\"\n",
    "    def __init__(self,name,salary):\n",
    "        super().__init__(name,salary,self.__departmentName)\n",
    "        # super()._showData\n",
    "\n",
    "class Sale(Employee):\n",
    "    __departmentName = \"ฝ่ายขายสินค้า\"\n",
    "    def __init__(self,name,salary):\n",
    "        super().__init__(name,salary,self.__departmentName)\n",
    "        # super()._showData"
   ]
  },
  {
   "cell_type": "code",
   "execution_count": 31,
   "metadata": {},
   "outputs": [],
   "source": [
    "account = Accounting(\"มีนา\",20000)\n",
    "# print(\"รายได้ต่อปี = {}\".format(account._getIncome()))print(\"รายได้ต่อปี = {}\".format(account._getIncome()))"
   ]
  },
  {
   "cell_type": "code",
   "execution_count": 32,
   "metadata": {},
   "outputs": [],
   "source": [
    "programmer = Programmar(\"ติ๊ก\",60000)\n",
    "# print(\"รายได้ต่อปี = {}\".format(programmer._getIncome()))"
   ]
  },
  {
   "cell_type": "code",
   "execution_count": 33,
   "metadata": {},
   "outputs": [],
   "source": [
    "sale = Sale(\"เบล\",30000)\n",
    "# print(\"รายได้ต่อปี = {}\".format(sale._getIncome()))"
   ]
  },
  {
   "cell_type": "code",
   "execution_count": 34,
   "metadata": {},
   "outputs": [
    {
     "name": "stdout",
     "output_type": "stream",
     "text": [
      "ชื่อพนักงาน = มีนา, แผนก = แผนกบัญชี, เงินเดือน = 20000\n"
     ]
    }
   ],
   "source": [
    "print(account.__str__())"
   ]
  },
  {
   "cell_type": "code",
   "execution_count": 35,
   "metadata": {},
   "outputs": [
    {
     "name": "stdout",
     "output_type": "stream",
     "text": [
      "ชื่อพนักงาน = เบล, แผนก = ฝ่ายขายสินค้า, เงินเดือน = 30000\n"
     ]
    }
   ],
   "source": [
    "print(sale.__str__())"
   ]
  }
 ],
 "metadata": {
  "kernelspec": {
   "display_name": "Python 3",
   "language": "python",
   "name": "python3"
  },
  "language_info": {
   "codemirror_mode": {
    "name": "ipython",
    "version": 3
   },
   "file_extension": ".py",
   "mimetype": "text/x-python",
   "name": "python",
   "nbconvert_exporter": "python",
   "pygments_lexer": "ipython3",
   "version": "3.9.13"
  },
  "orig_nbformat": 4
 },
 "nbformat": 4,
 "nbformat_minor": 2
}
