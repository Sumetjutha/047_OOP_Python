{
 "cells": [
  {
   "cell_type": "code",
   "execution_count": 3,
   "metadata": {},
   "outputs": [
    {
     "name": "stdout",
     "output_type": "stream",
     "text": [
      "ชื่อพนักงาน = ลุงตู่\n",
      "เงินเดือน = 20000000\n",
      "ตำแหน่ง = เป็นนักปั่น\n"
     ]
    }
   ],
   "source": [
    "# ใส่ชื่อกับเงินเดือน\n",
    "class Employee: # การสร้าง class ควรเป็นตัวพิมพ์ใหญ่ตัวแรก\n",
    "    ## สร้าง method\n",
    "\n",
    "    def __init__(self,name,salary,department):\n",
    "        # protected attribute\n",
    "        self.name = name\n",
    "        self.salary = salary\n",
    "        self.department = department\n",
    "    \n",
    "    # public method\n",
    "    def showData(self):\n",
    "        print(\"ชื่อพนักงาน = {}\".format(self.name))\n",
    "        print(\"เงินเดือน = {}\".format(self.salary))\n",
    "        print(\"ตำแหน่ง = {}\".format(self.department))\n",
    "        # print(\"กำหนดคุณสมบัติเรียบร้อย\")\n",
    "    \n",
    "    # ไม่ต้องระบุก็ได้\n",
    "    # def __del__(self): \n",
    "    #     print(\"Call Destructor\")\n",
    "        \n",
    "# การสร้าง วัตถุ\n",
    "obj1 = Employee(\"บอย นะจ๊ะ\",150000,\"เป็นนักปั่น\")\n",
    "obj1.name = \"ลุงตู่\"\n",
    "obj1.salary = 20000000\n",
    "obj1.showData()"
   ]
  },
  {
   "cell_type": "code",
   "execution_count": 7,
   "metadata": {},
   "outputs": [
    {
     "name": "stdout",
     "output_type": "stream",
     "text": [
      "ชื่อพนักงาน = ลุงตู่\n",
      "เงินเดือน = 20000000\n",
      "ตำแหน่ง = เป็นนักปั่น\n"
     ]
    }
   ],
   "source": [
    "# ใส่ชื่อกับเงินเดือน\n",
    "class Employee: # การสร้าง class ควรเป็นตัวพิมพ์ใหญ่ตัวแรก\n",
    "    ## สร้าง method\n",
    "\n",
    "    def __init__(self,name,salary,department):\n",
    "        # protected attribute\n",
    "        self._name = name\n",
    "        self._salary = salary\n",
    "        self._department = department\n",
    "    \n",
    "    # protected method\n",
    "    def _showData(self):\n",
    "        print(\"ชื่อพนักงาน = {}\".format(self._name))\n",
    "        print(\"เงินเดือน = {}\".format(self._salary))\n",
    "        print(\"ตำแหน่ง = {}\".format(self._department))\n",
    "        # print(\"กำหนดคุณสมบัติเรียบร้อย\")\n",
    "    \n",
    "    # ไม่ต้องระบุก็ได้\n",
    "    # def __del__(self): \n",
    "    #     print(\"Call Destructor\")\n",
    "        \n",
    "# การสร้าง วัตถุ\n",
    "obj1 = Employee(\"บอย นะจ๊ะ\",150000,\"เป็นนักปั่น\")\n",
    "obj1._name = \"ลุงตู่\"\n",
    "obj1._salary = 20000000\n",
    "obj1._showData()"
   ]
  }
 ],
 "metadata": {
  "kernelspec": {
   "display_name": "Python 3",
   "language": "python",
   "name": "python3"
  },
  "language_info": {
   "codemirror_mode": {
    "name": "ipython",
    "version": 3
   },
   "file_extension": ".py",
   "mimetype": "text/x-python",
   "name": "python",
   "nbconvert_exporter": "python",
   "pygments_lexer": "ipython3",
   "version": "3.9.13"
  },
  "orig_nbformat": 4
 },
 "nbformat": 4,
 "nbformat_minor": 2
}
