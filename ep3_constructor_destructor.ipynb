{
 "cells": [
  {
   "cell_type": "code",
   "execution_count": 17,
   "metadata": {},
   "outputs": [
    {
     "name": "stdout",
     "output_type": "stream",
     "text": [
      "Call Destructor\n",
      "ชื่อพนักงาน = บอย นะจ๊ะ\n",
      "เงินเดือน = 15200\n",
      "ตำแหน่ง = เป็นนักปั่น\n",
      "Call Destructor\n",
      "ชื่อพนักงาน = Mr.Sumet John Tik\n",
      "เงินเดือน = 50\n",
      "ตำแหน่ง = เป็นนักเลง\n",
      "Call Destructor\n",
      "ชื่อพนักงาน = ภูมิ ไอ้หนุ่มปอยหวาน\n",
      "เงินเดือน = 250\n",
      "ตำแหน่ง = IT SUPPORT\n"
     ]
    }
   ],
   "source": [
    "# ใส่ชื่อกับเงินเดือน\n",
    "class Employee: # การสร้าง class ควรเป็นตัวพิมพ์ใหญ่ตัวแรก\n",
    "    ## สร้าง method\n",
    "\n",
    "    def __init__(self,name,salary,department):\n",
    "        self.name = name\n",
    "        self.salary = salary\n",
    "        self.department = department\n",
    "        \n",
    "    def showData(self):\n",
    "        print(\"ชื่อพนักงาน = {}\".format(self.name))\n",
    "        print(\"เงินเดือน = {}\".format(self.salary))\n",
    "        print(\"ตำแหน่ง = {}\".format(self.department))\n",
    "        # print(\"กำหนดคุณสมบัติเรียบร้อย\")\n",
    "    \n",
    "    # ไม่ต้องระบุก็ได้\n",
    "    # def __del__(self): \n",
    "    #     print(\"Call Destructor\")\n",
    "        \n",
    "# การสร้าง วัตถุ\n",
    "obj1 = Employee(\"บอย นะจ๊ะ\",150000,\"เป็นนักปั่น\")\n",
    "obj1.salary = 15200\n",
    "obj1.showData()\n",
    "\n",
    "obj2 = Employee(\"John Tik\",50,\"เป็นนักเลง\")\n",
    "obj2.name = \"Mr.Sumet John Tik\"\n",
    "obj2.showData()\n",
    "\n",
    "obj3 = Employee(\"ภูมิ ไอ้หนุ่มปอยหวาน\",250,\"IT SUPPORT\")\n",
    "obj3.showData()"
   ]
  }
 ],
 "metadata": {
  "kernelspec": {
   "display_name": "Python 3",
   "language": "python",
   "name": "python3"
  },
  "language_info": {
   "codemirror_mode": {
    "name": "ipython",
    "version": 3
   },
   "file_extension": ".py",
   "mimetype": "text/x-python",
   "name": "python",
   "nbconvert_exporter": "python",
   "pygments_lexer": "ipython3",
   "version": "3.9.13"
  },
  "orig_nbformat": 4
 },
 "nbformat": 4,
 "nbformat_minor": 2
}
